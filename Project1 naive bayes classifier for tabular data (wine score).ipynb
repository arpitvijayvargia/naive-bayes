{
 "cells": [
  {
   "cell_type": "markdown",
   "metadata": {},
   "source": [
    "Importing basic library's which we will be using in Naive Bayes Classifier."
   ]
  },
  {
   "cell_type": "code",
   "execution_count": 56,
   "metadata": {},
   "outputs": [],
   "source": [
    "import numpy as np\n",
    "import scipy.stats as s\n",
    "import pandas as pd\n",
    "import matplotlib.pyplot as plt"
   ]
  },
  {
   "cell_type": "markdown",
   "metadata": {},
   "source": [
    "Importing data file which is in csv format"
   ]
  },
  {
   "cell_type": "code",
   "execution_count": 57,
   "metadata": {},
   "outputs": [],
   "source": [
    "raw_data = pd.read_csv(\"winequality-white.csv\")"
   ]
  },
  {
   "cell_type": "code",
   "execution_count": 58,
   "metadata": {},
   "outputs": [
    {
     "data": {
      "text/html": [
       "<div>\n",
       "<style scoped>\n",
       "    .dataframe tbody tr th:only-of-type {\n",
       "        vertical-align: middle;\n",
       "    }\n",
       "\n",
       "    .dataframe tbody tr th {\n",
       "        vertical-align: top;\n",
       "    }\n",
       "\n",
       "    .dataframe thead th {\n",
       "        text-align: right;\n",
       "    }\n",
       "</style>\n",
       "<table border=\"1\" class=\"dataframe\">\n",
       "  <thead>\n",
       "    <tr style=\"text-align: right;\">\n",
       "      <th></th>\n",
       "      <th>fixed acidity;\"volatile acidity\";\"citric acid\";\"residual sugar\";\"chlorides\";\"free sulfur dioxide\";\"total sulfur dioxide\";\"density\";\"pH\";\"sulphates\";\"alcohol\";\"quality\"</th>\n",
       "    </tr>\n",
       "  </thead>\n",
       "  <tbody>\n",
       "    <tr>\n",
       "      <th>0</th>\n",
       "      <td>7;0.27;0.36;20.7;0.045;45;170;1.001;3;0.45;8.8;6</td>\n",
       "    </tr>\n",
       "    <tr>\n",
       "      <th>1</th>\n",
       "      <td>6.3;0.3;0.34;1.6;0.049;14;132;0.994;3.3;0.49;9...</td>\n",
       "    </tr>\n",
       "    <tr>\n",
       "      <th>2</th>\n",
       "      <td>8.1;0.28;0.4;6.9;0.05;30;97;0.9951;3.26;0.44;1...</td>\n",
       "    </tr>\n",
       "    <tr>\n",
       "      <th>3</th>\n",
       "      <td>7.2;0.23;0.32;8.5;0.058;47;186;0.9956;3.19;0.4...</td>\n",
       "    </tr>\n",
       "    <tr>\n",
       "      <th>4</th>\n",
       "      <td>7.2;0.23;0.32;8.5;0.058;47;186;0.9956;3.19;0.4...</td>\n",
       "    </tr>\n",
       "  </tbody>\n",
       "</table>\n",
       "</div>"
      ],
      "text/plain": [
       "  fixed acidity;\"volatile acidity\";\"citric acid\";\"residual sugar\";\"chlorides\";\"free sulfur dioxide\";\"total sulfur dioxide\";\"density\";\"pH\";\"sulphates\";\"alcohol\";\"quality\"\n",
       "0   7;0.27;0.36;20.7;0.045;45;170;1.001;3;0.45;8.8;6                                                                                                                     \n",
       "1  6.3;0.3;0.34;1.6;0.049;14;132;0.994;3.3;0.49;9...                                                                                                                     \n",
       "2  8.1;0.28;0.4;6.9;0.05;30;97;0.9951;3.26;0.44;1...                                                                                                                     \n",
       "3  7.2;0.23;0.32;8.5;0.058;47;186;0.9956;3.19;0.4...                                                                                                                     \n",
       "4  7.2;0.23;0.32;8.5;0.058;47;186;0.9956;3.19;0.4...                                                                                                                     "
      ]
     },
     "execution_count": 58,
     "metadata": {},
     "output_type": "execute_result"
    }
   ],
   "source": [
    "raw_data.head()"
   ]
  },
  {
   "cell_type": "code",
   "execution_count": 59,
   "metadata": {},
   "outputs": [
    {
     "data": {
      "text/plain": [
       "(4898, 1)"
      ]
     },
     "execution_count": 59,
     "metadata": {},
     "output_type": "execute_result"
    }
   ],
   "source": [
    "raw_data.shape"
   ]
  },
  {
   "cell_type": "markdown",
   "metadata": {},
   "source": [
    "# As we can see that our data is mis-matched or not in processing format so first we will pre process our data"
   ]
  },
  {
   "cell_type": "code",
   "execution_count": 60,
   "metadata": {},
   "outputs": [],
   "source": [
    "#lets process our feature variables\n",
    "column_names = raw_data.columns"
   ]
  },
  {
   "cell_type": "code",
   "execution_count": 71,
   "metadata": {},
   "outputs": [
    {
     "data": {
      "text/plain": [
       "Index(['fixed acidity;\"volatile acidity\";\"citric acid\";\"residual sugar\";\"chlorides\";\"free sulfur dioxide\";\"total sulfur dioxide\";\"density\";\"pH\";\"sulphates\";\"alcohol\";\"quality\"'], dtype='object')"
      ]
     },
     "execution_count": 71,
     "metadata": {},
     "output_type": "execute_result"
    }
   ],
   "source": [
    "column_names"
   ]
  },
  {
   "cell_type": "code",
   "execution_count": 72,
   "metadata": {},
   "outputs": [],
   "source": [
    "column_names_string = column_names[0]"
   ]
  },
  {
   "cell_type": "code",
   "execution_count": 73,
   "metadata": {},
   "outputs": [
    {
     "data": {
      "text/plain": [
       "'fixed acidity;\"volatile acidity\";\"citric acid\";\"residual sugar\";\"chlorides\";\"free sulfur dioxide\";\"total sulfur dioxide\";\"density\";\"pH\";\"sulphates\";\"alcohol\";\"quality\"'"
      ]
     },
     "execution_count": 73,
     "metadata": {},
     "output_type": "execute_result"
    }
   ],
   "source": [
    "column_names_string"
   ]
  },
  {
   "cell_type": "code",
   "execution_count": 74,
   "metadata": {},
   "outputs": [],
   "source": [
    "#replace command will remove \" from our column names\n",
    "column_names_string = column_names_string.replace('\"','')"
   ]
  },
  {
   "cell_type": "code",
   "execution_count": 75,
   "metadata": {},
   "outputs": [
    {
     "data": {
      "text/plain": [
       "'fixed acidity;volatile acidity;citric acid;residual sugar;chlorides;free sulfur dioxide;total sulfur dioxide;density;pH;sulphates;alcohol;quality'"
      ]
     },
     "execution_count": 75,
     "metadata": {},
     "output_type": "execute_result"
    }
   ],
   "source": [
    "column_names_string"
   ]
  },
  {
   "cell_type": "code",
   "execution_count": 76,
   "metadata": {},
   "outputs": [],
   "source": [
    "#now we will separate our feature from each other using split command\n",
    "column_names_string = column_names_string.split(sep=';')"
   ]
  },
  {
   "cell_type": "code",
   "execution_count": 67,
   "metadata": {},
   "outputs": [
    {
     "data": {
      "text/plain": [
       "['fixed acidity',\n",
       " 'volatile acidity',\n",
       " 'citric acid',\n",
       " 'residual sugar',\n",
       " 'chlorides',\n",
       " 'free sulfur dioxide',\n",
       " 'total sulfur dioxide',\n",
       " 'density',\n",
       " 'pH',\n",
       " 'sulphates',\n",
       " 'alcohol',\n",
       " 'quality']"
      ]
     },
     "execution_count": 67,
     "metadata": {},
     "output_type": "execute_result"
    }
   ],
   "source": [
    "column_names_string"
   ]
  },
  {
   "cell_type": "code",
   "execution_count": 77,
   "metadata": {},
   "outputs": [],
   "source": [
    "#now our columns has been processed and now we will process our data\n",
    "feature_values = list(map(lambda x: x.split(sep=';'),raw_data.iloc[:,0]))"
   ]
  },
  {
   "cell_type": "code",
   "execution_count": 133,
   "metadata": {},
   "outputs": [
    {
     "data": {
      "text/plain": [
       "(4898, 12)"
      ]
     },
     "execution_count": 133,
     "metadata": {},
     "output_type": "execute_result"
    }
   ],
   "source": [
    "feature_values.shape"
   ]
  },
  {
   "cell_type": "code",
   "execution_count": 79,
   "metadata": {},
   "outputs": [],
   "source": [
    "#converting it into array\n",
    "feature_values = np.array(feature_values)"
   ]
  },
  {
   "cell_type": "code",
   "execution_count": 80,
   "metadata": {},
   "outputs": [
    {
     "data": {
      "text/plain": [
       "array([['7', '0.27', '0.36', ..., '0.45', '8.8', '6'],\n",
       "       ['6.3', '0.3', '0.34', ..., '0.49', '9.5', '6'],\n",
       "       ['8.1', '0.28', '0.4', ..., '0.44', '10.1', '6'],\n",
       "       ...,\n",
       "       ['6.5', '0.24', '0.19', ..., '0.46', '9.4', '6'],\n",
       "       ['5.5', '0.29', '0.3', ..., '0.38', '12.8', '7'],\n",
       "       ['6', '0.21', '0.38', ..., '0.32', '11.8', '6']], dtype='<U16')"
      ]
     },
     "execution_count": 80,
     "metadata": {},
     "output_type": "execute_result"
    }
   ],
   "source": [
    "feature_values"
   ]
  },
  {
   "cell_type": "code",
   "execution_count": 82,
   "metadata": {},
   "outputs": [],
   "source": [
    "#using dictionary we will combine our data to our feature:\n",
    "D = {}\n",
    "\n",
    "for i in range(0,12):\n",
    "    \n",
    "    D[column_names_string[i]] = feature_values[:,i]#(it means all rows and first column of our data)\n",
    "    #it will pick feature one by one and combine it with a respective data"
   ]
  },
  {
   "cell_type": "code",
   "execution_count": 84,
   "metadata": {},
   "outputs": [
    {
     "data": {
      "text/plain": [
       "{'fixed acidity': array(['7', '6.3', '8.1', ..., '6.5', '5.5', '6'], dtype='<U16'),\n",
       " 'volatile acidity': array(['0.27', '0.3', '0.28', ..., '0.24', '0.29', '0.21'], dtype='<U16'),\n",
       " 'citric acid': array(['0.36', '0.34', '0.4', ..., '0.19', '0.3', '0.38'], dtype='<U16'),\n",
       " 'residual sugar': array(['20.7', '1.6', '6.9', ..., '1.2', '1.1', '0.8'], dtype='<U16'),\n",
       " 'chlorides': array(['0.045', '0.049', '0.05', ..., '0.041', '0.022', '0.02'],\n",
       "       dtype='<U16'),\n",
       " 'free sulfur dioxide': array(['45', '14', '30', ..., '30', '20', '22'], dtype='<U16'),\n",
       " 'total sulfur dioxide': array(['170', '132', '97', ..., '111', '110', '98'], dtype='<U16'),\n",
       " 'density': array(['1.001', '0.994', '0.9951', ..., '0.99254', '0.98869', '0.98941'],\n",
       "       dtype='<U16'),\n",
       " 'pH': array(['3', '3.3', '3.26', ..., '2.99', '3.34', '3.26'], dtype='<U16'),\n",
       " 'sulphates': array(['0.45', '0.49', '0.44', ..., '0.46', '0.38', '0.32'], dtype='<U16'),\n",
       " 'alcohol': array(['8.8', '9.5', '10.1', ..., '9.4', '12.8', '11.8'], dtype='<U16'),\n",
       " 'quality': array(['6', '6', '6', ..., '6', '7', '6'], dtype='<U16')}"
      ]
     },
     "execution_count": 84,
     "metadata": {},
     "output_type": "execute_result"
    }
   ],
   "source": [
    "#lets see our data\n",
    "D"
   ]
  },
  {
   "cell_type": "code",
   "execution_count": 85,
   "metadata": {},
   "outputs": [],
   "source": [
    "#lets convert it into data frame for further process\n",
    "raw_data = pd.DataFrame(data=D)"
   ]
  },
  {
   "cell_type": "code",
   "execution_count": 86,
   "metadata": {},
   "outputs": [
    {
     "data": {
      "text/html": [
       "<div>\n",
       "<style scoped>\n",
       "    .dataframe tbody tr th:only-of-type {\n",
       "        vertical-align: middle;\n",
       "    }\n",
       "\n",
       "    .dataframe tbody tr th {\n",
       "        vertical-align: top;\n",
       "    }\n",
       "\n",
       "    .dataframe thead th {\n",
       "        text-align: right;\n",
       "    }\n",
       "</style>\n",
       "<table border=\"1\" class=\"dataframe\">\n",
       "  <thead>\n",
       "    <tr style=\"text-align: right;\">\n",
       "      <th></th>\n",
       "      <th>fixed acidity</th>\n",
       "      <th>volatile acidity</th>\n",
       "      <th>citric acid</th>\n",
       "      <th>residual sugar</th>\n",
       "      <th>chlorides</th>\n",
       "      <th>free sulfur dioxide</th>\n",
       "      <th>total sulfur dioxide</th>\n",
       "      <th>density</th>\n",
       "      <th>pH</th>\n",
       "      <th>sulphates</th>\n",
       "      <th>alcohol</th>\n",
       "      <th>quality</th>\n",
       "    </tr>\n",
       "  </thead>\n",
       "  <tbody>\n",
       "    <tr>\n",
       "      <th>0</th>\n",
       "      <td>7</td>\n",
       "      <td>0.27</td>\n",
       "      <td>0.36</td>\n",
       "      <td>20.7</td>\n",
       "      <td>0.045</td>\n",
       "      <td>45</td>\n",
       "      <td>170</td>\n",
       "      <td>1.001</td>\n",
       "      <td>3</td>\n",
       "      <td>0.45</td>\n",
       "      <td>8.8</td>\n",
       "      <td>6</td>\n",
       "    </tr>\n",
       "    <tr>\n",
       "      <th>1</th>\n",
       "      <td>6.3</td>\n",
       "      <td>0.3</td>\n",
       "      <td>0.34</td>\n",
       "      <td>1.6</td>\n",
       "      <td>0.049</td>\n",
       "      <td>14</td>\n",
       "      <td>132</td>\n",
       "      <td>0.994</td>\n",
       "      <td>3.3</td>\n",
       "      <td>0.49</td>\n",
       "      <td>9.5</td>\n",
       "      <td>6</td>\n",
       "    </tr>\n",
       "    <tr>\n",
       "      <th>2</th>\n",
       "      <td>8.1</td>\n",
       "      <td>0.28</td>\n",
       "      <td>0.4</td>\n",
       "      <td>6.9</td>\n",
       "      <td>0.05</td>\n",
       "      <td>30</td>\n",
       "      <td>97</td>\n",
       "      <td>0.9951</td>\n",
       "      <td>3.26</td>\n",
       "      <td>0.44</td>\n",
       "      <td>10.1</td>\n",
       "      <td>6</td>\n",
       "    </tr>\n",
       "    <tr>\n",
       "      <th>3</th>\n",
       "      <td>7.2</td>\n",
       "      <td>0.23</td>\n",
       "      <td>0.32</td>\n",
       "      <td>8.5</td>\n",
       "      <td>0.058</td>\n",
       "      <td>47</td>\n",
       "      <td>186</td>\n",
       "      <td>0.9956</td>\n",
       "      <td>3.19</td>\n",
       "      <td>0.4</td>\n",
       "      <td>9.9</td>\n",
       "      <td>6</td>\n",
       "    </tr>\n",
       "    <tr>\n",
       "      <th>4</th>\n",
       "      <td>7.2</td>\n",
       "      <td>0.23</td>\n",
       "      <td>0.32</td>\n",
       "      <td>8.5</td>\n",
       "      <td>0.058</td>\n",
       "      <td>47</td>\n",
       "      <td>186</td>\n",
       "      <td>0.9956</td>\n",
       "      <td>3.19</td>\n",
       "      <td>0.4</td>\n",
       "      <td>9.9</td>\n",
       "      <td>6</td>\n",
       "    </tr>\n",
       "  </tbody>\n",
       "</table>\n",
       "</div>"
      ],
      "text/plain": [
       "  fixed acidity volatile acidity citric acid residual sugar chlorides  \\\n",
       "0             7             0.27        0.36           20.7     0.045   \n",
       "1           6.3              0.3        0.34            1.6     0.049   \n",
       "2           8.1             0.28         0.4            6.9      0.05   \n",
       "3           7.2             0.23        0.32            8.5     0.058   \n",
       "4           7.2             0.23        0.32            8.5     0.058   \n",
       "\n",
       "  free sulfur dioxide total sulfur dioxide density    pH sulphates alcohol  \\\n",
       "0                  45                  170   1.001     3      0.45     8.8   \n",
       "1                  14                  132   0.994   3.3      0.49     9.5   \n",
       "2                  30                   97  0.9951  3.26      0.44    10.1   \n",
       "3                  47                  186  0.9956  3.19       0.4     9.9   \n",
       "4                  47                  186  0.9956  3.19       0.4     9.9   \n",
       "\n",
       "  quality  \n",
       "0       6  \n",
       "1       6  \n",
       "2       6  \n",
       "3       6  \n",
       "4       6  "
      ]
     },
     "execution_count": 86,
     "metadata": {},
     "output_type": "execute_result"
    }
   ],
   "source": [
    "raw_data.head()"
   ]
  },
  {
   "cell_type": "code",
   "execution_count": 87,
   "metadata": {},
   "outputs": [],
   "source": [
    "#using map lambda we will convert our data into float \n",
    "raw_data = raw_data.applymap(lambda x: float(x))"
   ]
  },
  {
   "cell_type": "code",
   "execution_count": 89,
   "metadata": {},
   "outputs": [],
   "source": [
    "#we will keep our class in int format only\n",
    "raw_data['quality'] = raw_data['quality'].apply(lambda x: int(x))"
   ]
  },
  {
   "cell_type": "code",
   "execution_count": 90,
   "metadata": {},
   "outputs": [
    {
     "data": {
      "text/html": [
       "<div>\n",
       "<style scoped>\n",
       "    .dataframe tbody tr th:only-of-type {\n",
       "        vertical-align: middle;\n",
       "    }\n",
       "\n",
       "    .dataframe tbody tr th {\n",
       "        vertical-align: top;\n",
       "    }\n",
       "\n",
       "    .dataframe thead th {\n",
       "        text-align: right;\n",
       "    }\n",
       "</style>\n",
       "<table border=\"1\" class=\"dataframe\">\n",
       "  <thead>\n",
       "    <tr style=\"text-align: right;\">\n",
       "      <th></th>\n",
       "      <th>fixed acidity</th>\n",
       "      <th>volatile acidity</th>\n",
       "      <th>citric acid</th>\n",
       "      <th>residual sugar</th>\n",
       "      <th>chlorides</th>\n",
       "      <th>free sulfur dioxide</th>\n",
       "      <th>total sulfur dioxide</th>\n",
       "      <th>density</th>\n",
       "      <th>pH</th>\n",
       "      <th>sulphates</th>\n",
       "      <th>alcohol</th>\n",
       "      <th>quality</th>\n",
       "    </tr>\n",
       "  </thead>\n",
       "  <tbody>\n",
       "    <tr>\n",
       "      <th>0</th>\n",
       "      <td>7.0</td>\n",
       "      <td>0.27</td>\n",
       "      <td>0.36</td>\n",
       "      <td>20.7</td>\n",
       "      <td>0.045</td>\n",
       "      <td>45.0</td>\n",
       "      <td>170.0</td>\n",
       "      <td>1.0010</td>\n",
       "      <td>3.00</td>\n",
       "      <td>0.45</td>\n",
       "      <td>8.8</td>\n",
       "      <td>6</td>\n",
       "    </tr>\n",
       "    <tr>\n",
       "      <th>1</th>\n",
       "      <td>6.3</td>\n",
       "      <td>0.30</td>\n",
       "      <td>0.34</td>\n",
       "      <td>1.6</td>\n",
       "      <td>0.049</td>\n",
       "      <td>14.0</td>\n",
       "      <td>132.0</td>\n",
       "      <td>0.9940</td>\n",
       "      <td>3.30</td>\n",
       "      <td>0.49</td>\n",
       "      <td>9.5</td>\n",
       "      <td>6</td>\n",
       "    </tr>\n",
       "    <tr>\n",
       "      <th>2</th>\n",
       "      <td>8.1</td>\n",
       "      <td>0.28</td>\n",
       "      <td>0.40</td>\n",
       "      <td>6.9</td>\n",
       "      <td>0.050</td>\n",
       "      <td>30.0</td>\n",
       "      <td>97.0</td>\n",
       "      <td>0.9951</td>\n",
       "      <td>3.26</td>\n",
       "      <td>0.44</td>\n",
       "      <td>10.1</td>\n",
       "      <td>6</td>\n",
       "    </tr>\n",
       "    <tr>\n",
       "      <th>3</th>\n",
       "      <td>7.2</td>\n",
       "      <td>0.23</td>\n",
       "      <td>0.32</td>\n",
       "      <td>8.5</td>\n",
       "      <td>0.058</td>\n",
       "      <td>47.0</td>\n",
       "      <td>186.0</td>\n",
       "      <td>0.9956</td>\n",
       "      <td>3.19</td>\n",
       "      <td>0.40</td>\n",
       "      <td>9.9</td>\n",
       "      <td>6</td>\n",
       "    </tr>\n",
       "    <tr>\n",
       "      <th>4</th>\n",
       "      <td>7.2</td>\n",
       "      <td>0.23</td>\n",
       "      <td>0.32</td>\n",
       "      <td>8.5</td>\n",
       "      <td>0.058</td>\n",
       "      <td>47.0</td>\n",
       "      <td>186.0</td>\n",
       "      <td>0.9956</td>\n",
       "      <td>3.19</td>\n",
       "      <td>0.40</td>\n",
       "      <td>9.9</td>\n",
       "      <td>6</td>\n",
       "    </tr>\n",
       "  </tbody>\n",
       "</table>\n",
       "</div>"
      ],
      "text/plain": [
       "   fixed acidity  volatile acidity  citric acid  residual sugar  chlorides  \\\n",
       "0            7.0              0.27         0.36            20.7      0.045   \n",
       "1            6.3              0.30         0.34             1.6      0.049   \n",
       "2            8.1              0.28         0.40             6.9      0.050   \n",
       "3            7.2              0.23         0.32             8.5      0.058   \n",
       "4            7.2              0.23         0.32             8.5      0.058   \n",
       "\n",
       "   free sulfur dioxide  total sulfur dioxide  density    pH  sulphates  \\\n",
       "0                 45.0                 170.0   1.0010  3.00       0.45   \n",
       "1                 14.0                 132.0   0.9940  3.30       0.49   \n",
       "2                 30.0                  97.0   0.9951  3.26       0.44   \n",
       "3                 47.0                 186.0   0.9956  3.19       0.40   \n",
       "4                 47.0                 186.0   0.9956  3.19       0.40   \n",
       "\n",
       "   alcohol  quality  \n",
       "0      8.8        6  \n",
       "1      9.5        6  \n",
       "2     10.1        6  \n",
       "3      9.9        6  \n",
       "4      9.9        6  "
      ]
     },
     "execution_count": 90,
     "metadata": {},
     "output_type": "execute_result"
    }
   ],
   "source": [
    "raw_data.head()"
   ]
  },
  {
   "cell_type": "code",
   "execution_count": 91,
   "metadata": {},
   "outputs": [],
   "source": [
    "#lets find out what is total number of class we have(wine score)\n",
    "number_of_unique_wine_scores = raw_data['quality'].unique()"
   ]
  },
  {
   "cell_type": "code",
   "execution_count": 92,
   "metadata": {},
   "outputs": [],
   "source": [
    "number_of_unique_wine_scores = sorted(number_of_unique_wine_scores)"
   ]
  },
  {
   "cell_type": "code",
   "execution_count": 93,
   "metadata": {},
   "outputs": [
    {
     "name": "stdout",
     "output_type": "stream",
     "text": [
      "[3, 4, 5, 6, 7, 8, 9]\n"
     ]
    }
   ],
   "source": [
    "print(number_of_unique_wine_scores)"
   ]
  },
  {
   "cell_type": "markdown",
   "metadata": {},
   "source": [
    "# now our data is preprocessed and ready to use"
   ]
  },
  {
   "cell_type": "markdown",
   "metadata": {},
   "source": [
    "now we will use right hand rule to seprate training and testing data from our raw data i.e 75% testing data 25% training data"
   ]
  },
  {
   "cell_type": "code",
   "execution_count": 94,
   "metadata": {},
   "outputs": [],
   "source": [
    "#training data = 75% rawdata\n",
    "training_data = raw_data.iloc[0:int(0.75*len(raw_data))]\n",
    "#converting it into data frame\n",
    "training_data = pd.DataFrame(training_data)\n",
    "#testing data = raw data - training data\n",
    "testing_data = raw_data.iloc[int(0.75*len(raw_data)):]\n",
    "\n",
    "testing_data = pd.DataFrame(testing_data)\n",
    "#now we have to store our class labels seprately\n",
    "actual_class = testing_data['quality']"
   ]
  },
  {
   "cell_type": "markdown",
   "metadata": {},
   "source": [
    "now we will remove features with less variance (PCA)"
   ]
  },
  {
   "cell_type": "code",
   "execution_count": 98,
   "metadata": {},
   "outputs": [],
   "source": [
    "feature_variances_training_data = training_data.var()"
   ]
  },
  {
   "cell_type": "code",
   "execution_count": 99,
   "metadata": {},
   "outputs": [],
   "source": [
    "feature_variances_training_data.sort_values(inplace= True)"
   ]
  },
  {
   "cell_type": "code",
   "execution_count": 100,
   "metadata": {},
   "outputs": [
    {
     "data": {
      "text/plain": [
       "density                    0.000009\n",
       "chlorides                  0.000478\n",
       "volatile acidity           0.010194\n",
       "sulphates                  0.013025\n",
       "citric acid                0.015314\n",
       "pH                         0.023720\n",
       "fixed acidity              0.719339\n",
       "quality                    0.838438\n",
       "alcohol                    1.437394\n",
       "residual sugar            26.088071\n",
       "free sulfur dioxide      282.940889\n",
       "total sulfur dioxide    1896.459570\n",
       "dtype: float64"
      ]
     },
     "execution_count": 100,
     "metadata": {},
     "output_type": "execute_result"
    }
   ],
   "source": [
    "feature_variances_training_data"
   ]
  },
  {
   "cell_type": "markdown",
   "metadata": {},
   "source": [
    "As we can see above our density feature has lowest variance so we can drop it from our data.\n",
    "\n",
    "Its totally upto us if we want to remove more feature or not depending upon the desired accuracy.\n",
    "\n",
    "we can perform hit and trial by removing feature's and see its effect on accuracy.\n"
   ]
  },
  {
   "cell_type": "code",
   "execution_count": 101,
   "metadata": {},
   "outputs": [],
   "source": [
    "testing_data.drop(labels=['quality'],axis=1,inplace=True)\n",
    "testing_data = testing_data.drop(['density'],axis=1)\n",
    "training_data = training_data.drop(['density'], axis=1)"
   ]
  },
  {
   "cell_type": "code",
   "execution_count": 104,
   "metadata": {},
   "outputs": [],
   "source": [
    "#we will make function for our mean vector and covarinace mattrix.\n",
    "# our function will give covmatrix  and mean vector as output and take wine score as input.\n",
    "def mean_vector_and_cov_mat(wine_score):\n",
    "    #wine score = class label\n",
    "    wine_score_data = training_data[training_data['quality'] == wine_score]\n",
    "    #drop class from our data\n",
    "    dropped_wine_score_data = wine_score_data.drop(['quality'],axis=1)\n",
    "    #convert it into array\n",
    "    wine_score_data_array = np.array(dropped_wine_score_data)\n",
    "    #calculating mean using numpy\n",
    "    mean_vector = np.mean(wine_score_data_array,axis=0)\n",
    "    #calculating covaraince mattrix \n",
    "    cov_mat = np.array(dropped_wine_score_data.cov())\n",
    "    #output\n",
    "    return [mean_vector,cov_mat]"
   ]
  },
  {
   "cell_type": "code",
   "execution_count": 106,
   "metadata": {},
   "outputs": [],
   "source": [
    "#finding natural parameter\n",
    "natural_parameters = []\n",
    "\n",
    "for i in range(0,7):\n",
    "    \n",
    "    natural_parameters.append(mean_vector_and_cov_mat(number_of_unique_wine_scores[i]))"
   ]
  },
  {
   "cell_type": "code",
   "execution_count": 107,
   "metadata": {},
   "outputs": [],
   "source": [
    "#The above task can be acheived like below also without using loop\n",
    "natural_parameters = list(map(lambda x: mean_vector_and_cov_mat(x),number_of_unique_wine_scores))"
   ]
  },
  {
   "cell_type": "code",
   "execution_count": 108,
   "metadata": {},
   "outputs": [
    {
     "name": "stdout",
     "output_type": "stream",
     "text": [
      "[[array([7.72777778e+00, 3.41388889e-01, 3.40555556e-01, 6.10277778e+00,\n",
      "       5.43888889e-02, 4.08611111e+01, 1.56111111e+02, 3.17055556e+00,\n",
      "       4.62777778e-01, 1.03277778e+01]), array([[ 3.13741830e+00,  2.61062092e-02,  4.48660131e-02,\n",
      "         2.21962418e+00,  4.61797386e-03, -9.28120915e+00,\n",
      "        -1.27091503e+00, -2.78545752e-01, -6.69934641e-04,\n",
      "        -9.19934641e-02],\n",
      "       [ 2.61062092e-02,  2.14641340e-02,  2.21388889e-03,\n",
      "         5.46135621e-02,  4.02089869e-03,  1.05498366e-01,\n",
      "         5.33777778e+00, -6.40964052e-03,  6.84885621e-03,\n",
      "        -6.83496732e-03],\n",
      "       [ 4.48660131e-02,  2.21388889e-03,  6.95849673e-03,\n",
      "        -7.75604575e-02,  9.14477124e-04, -2.21197712e+00,\n",
      "        -3.16506536e+00, -3.96503268e-03, -5.78104575e-04,\n",
      "         2.93366013e-02],\n",
      "       [ 2.21962418e+00,  5.46135621e-02, -7.75604575e-02,\n",
      "         2.63339624e+01,  7.53723856e-02, -1.05760621e+01,\n",
      "         1.96845261e+02, -5.09531046e-01,  2.70815359e-01,\n",
      "        -2.93905229e-01],\n",
      "       [ 4.61797386e-03,  4.02089869e-03,  9.14477124e-04,\n",
      "         7.53723856e-02,  2.40825163e-03, -9.73692810e-03,\n",
      "         1.47513072e+00, -3.95375817e-03,  3.59238562e-03,\n",
      "        -2.24232026e-02],\n",
      "       [-9.28120915e+00,  1.05498366e-01, -2.21197712e+00,\n",
      "        -1.05760621e+01, -9.73692810e-03,  1.94696487e+03,\n",
      "         2.56028105e+03,  1.22066993e+00,  2.07173203e-01,\n",
      "        -6.95767974e+00],\n",
      "       [-1.27091503e+00,  5.33777778e+00, -3.16506536e+00,\n",
      "         1.96845261e+02,  1.47513072e+00,  2.56028105e+03,\n",
      "         8.48213399e+03, -1.95830065e+00,  5.05673203e+00,\n",
      "        -2.65915033e+01],\n",
      "       [-2.78545752e-01, -6.40964052e-03, -3.96503268e-03,\n",
      "        -5.09531046e-01, -3.95375817e-03,  1.22066993e+00,\n",
      "        -1.95830065e+00,  4.49937908e-02, -3.60163399e-03,\n",
      "         3.89248366e-02],\n",
      "       [-6.69934641e-04,  6.84885621e-03, -5.78104575e-04,\n",
      "         2.70815359e-01,  3.59238562e-03,  2.07173203e-01,\n",
      "         5.05673203e+00, -3.60163399e-03,  1.41741830e-02,\n",
      "        -5.41405229e-02],\n",
      "       [-9.19934641e-02, -6.83496732e-03,  2.93366013e-02,\n",
      "        -2.93905229e-01, -2.24232026e-02, -6.95767974e+00,\n",
      "        -2.65915033e+01,  3.89248366e-02, -5.41405229e-02,\n",
      "         1.67153595e+00]])], [array([7.30000000e+00, 3.73030303e-01, 3.20000000e-01, 4.78598485e+00,\n",
      "       5.11666667e-02, 2.40795455e+01, 1.30784091e+02, 3.18568182e+00,\n",
      "       4.82954545e-01, 1.00522727e+01]), array([[ 1.12442748e+00,  1.64503817e-03,  9.03740458e-02,\n",
      "         7.38931298e-02, -3.74656489e-03, -2.16221374e+00,\n",
      "        -2.39656489e+00, -8.27022901e-02, -7.80152672e-03,\n",
      "         7.09923664e-02],\n",
      "       [ 1.64503817e-03,  2.83243350e-02, -5.95839695e-03,\n",
      "         2.13252371e-02,  8.12048346e-04, -1.58620749e-01,\n",
      "         2.94628730e-01,  1.37005552e-03,  1.26474670e-04,\n",
      "        -1.35718251e-02],\n",
      "       [ 9.03740458e-02, -5.95839695e-03,  2.57633588e-02,\n",
      "         1.38606870e-01, -5.82442748e-04,  4.05114504e-01,\n",
      "         1.44351145e+00, -1.01396947e-02,  2.62748092e-03,\n",
      "         1.05801527e-02],\n",
      "       [ 7.38931298e-02,  2.13252371e-02,  1.38606870e-01,\n",
      "         1.86480654e+01,  2.70741094e-02,  2.95057035e+01,\n",
      "         9.44984776e+01, -9.39006766e-02,  4.62745489e-02,\n",
      "        -1.45742974e+00],\n",
      "       [-3.74656489e-03,  8.12048346e-04, -5.82442748e-04,\n",
      "         2.70741094e-02,  7.09605598e-04,  1.75438931e-02,\n",
      "         4.14383588e-01,  4.08969466e-04,  6.49885496e-04,\n",
      "        -8.67213740e-03],\n",
      "       [-2.16221374e+00, -1.58620749e-01,  4.05114504e-01,\n",
      "         2.95057035e+01,  1.75438931e-02,  4.48014617e+02,\n",
      "         7.54633718e+02,  4.02521686e-01,  4.81786086e-01,\n",
      "        -7.40762491e+00],\n",
      "       [-2.39656489e+00,  2.94628730e-01,  1.44351145e+00,\n",
      "         9.44984776e+01,  4.14383588e-01,  7.54633718e+02,\n",
      "         2.79071829e+03,  2.28272467e+00,  2.42007026e+00,\n",
      "        -2.39970246e+01],\n",
      "       [-8.27022901e-02,  1.37005552e-03, -1.01396947e-02,\n",
      "        -9.39006766e-02,  4.08969466e-04,  4.02521686e-01,\n",
      "         2.28272467e+00,  2.79438064e-02,  3.95636711e-03,\n",
      "        -2.77267523e-02],\n",
      "       [-7.80152672e-03,  1.26474670e-04,  2.62748092e-03,\n",
      "         4.62745489e-02,  6.49885496e-04,  4.81786086e-01,\n",
      "         2.42007026e+00,  3.95636711e-03,  1.42438758e-02,\n",
      "        -2.46096461e-03],\n",
      "       [ 7.09923664e-02, -1.35718251e-02,  1.05801527e-02,\n",
      "        -1.45742974e+00, -8.67213740e-03, -7.40762491e+00,\n",
      "        -2.39970246e+01, -2.77267523e-02, -2.46096461e-03,\n",
      "         8.32132200e-01]])], [array([7.03297101e+00, 2.99787138e-01, 3.48405797e-01, 7.38011775e+00,\n",
      "       5.06376812e-02, 3.65756341e+01, 1.52174366e+02, 3.17326993e+00,\n",
      "       4.78215580e-01, 9.76530797e+00]), array([[ 7.26069678e-01, -4.60790400e-04,  3.59701079e-02,\n",
      "         7.57816298e-03, -1.32829700e-03, -2.64868820e+00,\n",
      "        -1.98802985e+00, -5.36410021e-02,  2.56840698e-03,\n",
      "         9.60406073e-02],\n",
      "       [-4.60790400e-04,  1.06864687e-02, -1.67685824e-03,\n",
      "         2.34345672e-02,  3.93268228e-04, -9.22119003e-02,\n",
      "         6.90726180e-01, -1.28180559e-03,  2.21152005e-04,\n",
      "        -7.75852459e-03],\n",
      "       [ 3.59701079e-02, -1.67685824e-03,  2.09205750e-02,\n",
      "         1.64713062e-01,  3.73438186e-04,  3.00030024e-01,\n",
      "         7.75885661e-01, -6.02252487e-03,  1.56614635e-03,\n",
      "        -1.52094814e-02],\n",
      "       [ 7.57816298e-03,  2.34345672e-02,  1.64713062e-01,\n",
      "         2.87600690e+01,  4.61885503e-03,  4.12393338e+01,\n",
      "         1.03887196e+02, -9.23642113e-02,  3.26081886e-02,\n",
      "        -2.06737216e+00],\n",
      "       [-1.32829700e-03,  3.93268228e-04,  3.73438186e-04,\n",
      "         4.61885503e-03,  6.95337328e-04,  4.33107467e-02,\n",
      "         1.75521076e-01, -2.18342728e-04,  2.20667481e-04,\n",
      "        -4.88909956e-03],\n",
      "       [-2.64868820e+00, -9.22119003e-02,  3.00030024e-01,\n",
      "         4.12393338e+01,  4.33107467e-02,  3.39252434e+02,\n",
      "         5.56679003e+02,  1.10670544e-02,  1.24346327e-01,\n",
      "        -5.16668469e+00],\n",
      "       [-1.98802985e+00,  6.90726180e-01,  7.75885661e-01,\n",
      "         1.03887196e+02,  1.75521076e-01,  5.56679003e+02,\n",
      "         2.04240724e+03, -2.07837362e-02,  1.25428241e+00,\n",
      "        -1.55036009e+01],\n",
      "       [-5.36410021e-02, -1.28180559e-03, -6.02252487e-03,\n",
      "        -9.23642113e-02, -2.18342728e-04,  1.10670544e-02,\n",
      "        -2.07837362e-02,  2.12789624e-02,  1.62424457e-03,\n",
      "         1.25904245e-02],\n",
      "       [ 2.56840698e-03,  2.21152005e-04,  1.56614635e-03,\n",
      "         3.26081886e-02,  2.20667481e-04,  1.24346327e-01,\n",
      "         1.25428241e+00,  1.62424457e-03,  1.04175745e-02,\n",
      "        -5.00393771e-03],\n",
      "       [ 9.60406073e-02, -7.75852459e-03, -1.52094814e-02,\n",
      "        -2.06737216e+00, -4.88909956e-03, -5.16668469e+00,\n",
      "        -1.55036009e+01,  1.25904245e-02, -5.00393771e-03,\n",
      "         6.96864275e-01]])], [array([7.00082331e+00, 2.56659278e-01, 3.48321723e-01, 6.41108296e+00,\n",
      "       4.55566814e-02, 3.59635845e+01, 1.42202977e+02, 3.19753642e+00,\n",
      "       4.91228626e-01, 1.04274224e+01]), array([[ 7.07353568e-01, -1.68229218e-03,  2.60723585e-02,\n",
      "         3.53222809e-01, -3.24919953e-04, -1.70802661e-02,\n",
      "         2.44580870e+00, -5.27590604e-02,  5.84539155e-04,\n",
      "         1.65807040e-02],\n",
      "       [-1.68229218e-03,  7.53428561e-03, -1.13485609e-03,\n",
      "         8.65720612e-02,  8.55608024e-06, -1.05283328e-01,\n",
      "         4.25884475e-01, -1.24464221e-03, -3.45829531e-04,\n",
      "         7.18355720e-03],\n",
      "       [ 2.60723585e-02, -1.13485609e-03,  1.50925555e-02,\n",
      "         3.86878136e-02,  2.71055264e-04,  9.67734468e-02,\n",
      "         3.17409942e-01, -2.18525253e-03,  3.94205233e-04,\n",
      "         4.25012301e-04],\n",
      "       [ 3.53222809e-01,  8.65720612e-02,  3.86878136e-02,\n",
      "         2.78664297e+01,  3.70669080e-03,  2.53448430e+01,\n",
      "         8.16939784e+01, -1.15944479e-01, -2.28412554e-02,\n",
      "        -2.47042452e+00],\n",
      "       [-3.24919953e-04,  8.55608024e-06,  2.71055264e-04,\n",
      "         3.70669080e-03,  4.18551126e-04,  4.21061528e-02,\n",
      "         1.30814692e-01, -8.70687637e-05, -4.10392662e-05,\n",
      "        -7.22953378e-03],\n",
      "       [-1.70802661e-02, -1.05283328e-01,  9.67734468e-02,\n",
      "         2.53448430e+01,  4.21061528e-02,  2.42080581e+02,\n",
      "         4.20331382e+02, -5.72824183e-02, -1.82188555e-02,\n",
      "        -5.69690951e+00],\n",
      "       [ 2.44580870e+00,  4.25884475e-01,  3.17409942e-01,\n",
      "         8.16939784e+01,  1.30814692e-01,  4.20331382e+02,\n",
      "         1.83147383e+03,  1.73481989e-01,  7.29376569e-01,\n",
      "        -2.05767990e+01],\n",
      "       [-5.27590604e-02, -1.24464221e-03, -2.18525253e-03,\n",
      "        -1.15944479e-01, -8.70687637e-05, -5.72824183e-02,\n",
      "         1.73481989e-01,  2.37919624e-02,  3.42204015e-03,\n",
      "        -7.04262857e-04],\n",
      "       [ 5.84539155e-04, -3.45829531e-04,  3.94205233e-04,\n",
      "        -2.28412554e-02, -4.10392662e-05, -1.82188555e-02,\n",
      "         7.29376569e-01,  3.42204015e-03,  1.22448774e-02,\n",
      "        -1.04297842e-02],\n",
      "       [ 1.65807040e-02,  7.18355720e-03,  4.25012301e-04,\n",
      "        -2.47042452e+00, -7.22953378e-03, -5.69690951e+00,\n",
      "        -2.05767990e+01, -7.04262857e-04, -1.04297842e-02,\n",
      "         1.19579380e+00]])], [array([6.84539474e+00, 2.60365497e-01, 3.32412281e-01, 5.00584795e+00,\n",
      "       3.80716374e-02, 3.42558480e+01, 1.26750731e+02, 3.22271930e+00,\n",
      "       5.03099415e-01, 1.13255848e+01]), array([[ 5.44792084e-01, -1.82408299e-03,  1.60272309e-02,\n",
      "         6.61256839e-01,  7.93229367e-04, -1.73856631e-01,\n",
      "         3.23607585e+00, -6.07334322e-02, -1.08502736e-02,\n",
      "        -1.78366629e-01],\n",
      "       [-1.82408299e-03,  7.60403898e-03, -1.58126365e-03,\n",
      "         2.47471274e-02, -2.73620658e-04, -2.20994088e-01,\n",
      "        -1.11358247e-01, -2.64977781e-04, -1.11174942e-03,\n",
      "         4.63522750e-02],\n",
      "       [ 1.60272309e-02, -1.58126365e-03,  6.52345496e-03,\n",
      "         2.67069559e-02,  1.68582428e-04,  1.61834335e-01,\n",
      "         3.09452846e-01, -2.19529552e-03, -3.47751149e-04,\n",
      "        -1.39549267e-02],\n",
      "       [ 6.61256839e-01,  2.47471274e-02,  2.67069559e-02,\n",
      "         1.73789994e+01,  1.07352320e-02,  8.71453383e+00,\n",
      "         6.69368186e+01, -1.72519586e-01, -5.08109775e-02,\n",
      "        -2.13582334e+00],\n",
      "       [ 7.93229367e-04, -2.73620658e-04,  1.68582428e-04,\n",
      "         1.07352320e-02,  1.25170556e-04,  3.25943828e-02,\n",
      "         1.52925643e-01, -5.56844160e-06,  1.10963585e-04,\n",
      "        -7.36552512e-03],\n",
      "       [-1.73856631e-01, -2.20994088e-01,  1.61834335e-01,\n",
      "         8.71453383e+00,  3.25943828e-02,  1.85052308e+02,\n",
      "         2.55209549e+02,  9.55331227e-02,  2.12236607e-01,\n",
      "        -3.56446170e+00],\n",
      "       [ 3.23607585e+00, -1.11358247e-01,  3.09452846e-01,\n",
      "         6.69368186e+01,  1.52925643e-01,  2.55209549e+02,\n",
      "         1.16602086e+03,  8.16963988e-02,  1.03709298e-01,\n",
      "        -1.83377567e+01],\n",
      "       [-6.07334322e-02, -2.64977781e-04, -2.19529552e-03,\n",
      "        -1.72519586e-01, -5.56844160e-06,  9.55331227e-02,\n",
      "         8.16963988e-02,  2.55838098e-02,  4.48643497e-03,\n",
      "        -1.00671701e-03],\n",
      "       [-1.08502736e-02, -1.11174942e-03, -3.47751149e-04,\n",
      "        -5.08109775e-02,  1.10963585e-04,  2.12236607e-01,\n",
      "         1.03709298e-01,  4.48643497e-03,  1.65801307e-02,\n",
      "        -1.77382720e-02],\n",
      "       [-1.78366629e-01,  4.63522750e-02, -1.39549267e-02,\n",
      "        -2.13582334e+00, -7.36552512e-03, -3.56446170e+00,\n",
      "        -1.83377567e+01, -1.00671701e-03, -1.77382720e-02,\n",
      "         1.42360507e+00]])], [array([6.68476821e+00, 2.77350993e-01, 3.34437086e-01, 5.28874172e+00,\n",
      "       3.74569536e-02, 3.71655629e+01, 1.25596026e+02, 3.22814570e+00,\n",
      "       4.90860927e-01, 1.16920530e+01]), array([[ 6.26099779e-01, -7.24061810e-03,  1.67413687e-02,\n",
      "         8.89594040e-01,  2.72233996e-03, -4.42794702e-01,\n",
      "         7.16847241e+00, -4.08617660e-02, -1.52267991e-02,\n",
      "        -3.59788521e-01],\n",
      "       [-7.24061810e-03,  1.17849360e-02, -1.20350110e-03,\n",
      "        -2.97066887e-02, -3.79748124e-04, -2.81791832e-01,\n",
      "        -5.63810596e-01, -4.12944812e-04, -4.12837086e-03,\n",
      "         6.31754746e-02],\n",
      "       [ 1.67413687e-02, -1.20350110e-03,  7.50084768e-03,\n",
      "         4.19736203e-02, -1.01974393e-04,  1.75938190e-02,\n",
      "         2.38204415e-01,  2.07615894e-04,  3.03487859e-04,\n",
      "        -3.41783664e-03],\n",
      "       [ 8.89594040e-01, -2.97066887e-02,  4.19736203e-02,\n",
      "         1.56799057e+01,  1.17365121e-02,  4.39120971e+00,\n",
      "         5.10350883e+01, -1.55771015e-01, -1.26633576e-01,\n",
      "        -1.88712340e+00],\n",
      "       [ 2.72233996e-03, -3.79748124e-04, -1.01974393e-04,\n",
      "         1.17365121e-02,  1.72369801e-04,  2.85638411e-02,\n",
      "         1.36025828e-01, -1.47080353e-04,  3.63373068e-05,\n",
      "        -6.57634437e-03],\n",
      "       [-4.42794702e-01, -2.81791832e-01,  1.75938190e-02,\n",
      "         4.39120971e+00,  2.85638411e-02,  2.86752406e+02,\n",
      "         3.60660662e+02,  1.15242384e-01,  6.08523179e-01,\n",
      "        -2.55734216e+00],\n",
      "       [ 7.16847241e+00, -5.63810596e-01,  2.38204415e-01,\n",
      "         5.10350883e+01,  1.36025828e-01,  3.60660662e+02,\n",
      "         1.18404572e+03,  8.88459161e-02,  1.31750110e-01,\n",
      "        -1.41158985e+01],\n",
      "       [-4.08617660e-02, -4.12944812e-04,  2.07615894e-04,\n",
      "        -1.55771015e-01, -1.47080353e-04,  1.15242384e-01,\n",
      "         8.88459161e-02,  1.90138720e-02,  6.25294040e-03,\n",
      "        -2.31483444e-03],\n",
      "       [-1.52267991e-02, -4.12837086e-03,  3.03487859e-04,\n",
      "        -1.26633576e-01,  3.63373068e-05,  6.08523179e-01,\n",
      "         1.31750110e-01,  6.25294040e-03,  2.17065872e-02,\n",
      "        -1.42531126e-02],\n",
      "       [-3.59788521e-01,  6.31754746e-02, -3.41783664e-03,\n",
      "        -1.88712340e+00, -6.57634437e-03, -2.55734216e+00,\n",
      "        -1.41158985e+01, -2.31483444e-03, -1.42531126e-02,\n",
      "         1.31700309e+00]])], [array([7.420e+00, 2.980e-01, 3.860e-01, 4.120e+00, 2.740e-02, 3.340e+01,\n",
      "       1.160e+02, 3.308e+00, 4.660e-01, 1.218e+01]), array([[ 9.6700e-01, -2.9200e-02,  4.4350e-02,  3.3920e+00,  5.3400e-03,\n",
      "        -3.1850e+00,  9.4500e+00, -6.7450e-02, -1.4650e-02, -9.1950e-01],\n",
      "       [-2.9200e-02,  3.3200e-03, -3.2600e-03, -3.4200e-02, -3.9400e-04,\n",
      "         3.7350e-01, -7.9500e-01,  1.7200e-03,  8.6500e-04,  1.2450e-02],\n",
      "       [ 4.4350e-02, -3.2600e-03,  6.7300e-03,  1.2710e-01,  4.7950e-04,\n",
      "        -1.5300e-01,  6.1000e-01, -2.0600e-03, -3.6200e-03, -2.3100e-02],\n",
      "       [ 3.3920e+00, -3.4200e-02,  1.2710e-01,  1.4132e+01,  1.2040e-02,\n",
      "         2.1900e+00,  2.1800e+01, -2.5470e-01, -8.7900e-02, -3.5270e+00],\n",
      "       [ 5.3400e-03, -3.9400e-04,  4.7950e-04,  1.2040e-02,  5.5300e-05,\n",
      "        -5.9200e-02,  7.5000e-02, -2.5650e-04, -3.3000e-05, -3.8400e-03],\n",
      "       [-3.1850e+00,  3.7350e-01, -1.5300e-01,  2.1900e+00, -5.9200e-02,\n",
      "         1.8030e+02,  4.4750e+01, -2.5150e-01, -9.5050e-01,  4.0100e+00],\n",
      "       [ 9.4500e+00, -7.9500e-01,  6.1000e-01,  2.1800e+01,  7.5000e-02,\n",
      "         4.4750e+01,  3.9300e+02, -1.2350e+00, -1.0925e+00, -3.5750e+00],\n",
      "       [-6.7450e-02,  1.7200e-03, -2.0600e-03, -2.5470e-01, -2.5650e-04,\n",
      "        -2.5150e-01, -1.2350e+00,  6.8700e-03,  3.7650e-03,  5.8950e-02],\n",
      "       [-1.4650e-02,  8.6500e-04, -3.6200e-03, -8.7900e-02, -3.3000e-05,\n",
      "        -9.5050e-01, -1.0925e+00,  3.7650e-03,  8.5800e-03, -1.0350e-02],\n",
      "       [-9.1950e-01,  1.2450e-02, -2.3100e-02, -3.5270e+00, -3.8400e-03,\n",
      "         4.0100e+00, -3.5750e+00,  5.8950e-02, -1.0350e-02,  1.0270e+00]])]]\n"
     ]
    }
   ],
   "source": [
    "print(natural_parameters)"
   ]
  },
  {
   "cell_type": "markdown",
   "metadata": {},
   "source": [
    "We know that bayes theorem is give by :\n",
    "\n",
    "# $P(A/B) = \\frac{P(B/A).P(A)}{P(B)} $\n",
    "\n",
    "\n",
    "\n",
    "P(A) = Prior probabilty\n",
    "\n",
    "P(B) = Total probabilty\n",
    "\n",
    "P(B/A) = Conditional probabilty\n",
    "\n",
    "P(A/B) = Posterior probability"
   ]
  },
  {
   "cell_type": "code",
   "execution_count": 109,
   "metadata": {},
   "outputs": [],
   "source": [
    "#finding prior probabilty using map lambda\n",
    "prior_class_probabilities = list(map(lambda wine_score: len(training_data[training_data['quality'] == wine_score])/len(training_data),\n",
    "                                     number_of_unique_wine_scores))"
   ]
  },
  {
   "cell_type": "code",
   "execution_count": 110,
   "metadata": {},
   "outputs": [
    {
     "data": {
      "text/plain": [
       "[0.004900626191124422,\n",
       " 0.03593792540157909,\n",
       " 0.30057173972229784,\n",
       " 0.429893819765859,\n",
       " 0.186223795262728,\n",
       " 0.04111080860332154,\n",
       " 0.001361285053090117]"
      ]
     },
     "execution_count": 110,
     "metadata": {},
     "output_type": "execute_result"
    }
   ],
   "source": [
    "prior_class_probabilities"
   ]
  },
  {
   "cell_type": "code",
   "execution_count": 111,
   "metadata": {},
   "outputs": [],
   "source": [
    "#dictionary = {key:value}\n",
    "D = dict(zip(number_of_unique_wine_scores,natural_parameters))"
   ]
  },
  {
   "cell_type": "code",
   "execution_count": 112,
   "metadata": {},
   "outputs": [],
   "source": [
    "\n",
    "for k,p_cap in zip(D.keys(),prior_class_probabilities):\n",
    "    \n",
    "    D[k].append(p_cap)"
   ]
  },
  {
   "cell_type": "code",
   "execution_count": 113,
   "metadata": {},
   "outputs": [
    {
     "data": {
      "text/plain": [
       "[array([7.72777778e+00, 3.41388889e-01, 3.40555556e-01, 6.10277778e+00,\n",
       "        5.43888889e-02, 4.08611111e+01, 1.56111111e+02, 3.17055556e+00,\n",
       "        4.62777778e-01, 1.03277778e+01]),\n",
       " array([[ 3.13741830e+00,  2.61062092e-02,  4.48660131e-02,\n",
       "          2.21962418e+00,  4.61797386e-03, -9.28120915e+00,\n",
       "         -1.27091503e+00, -2.78545752e-01, -6.69934641e-04,\n",
       "         -9.19934641e-02],\n",
       "        [ 2.61062092e-02,  2.14641340e-02,  2.21388889e-03,\n",
       "          5.46135621e-02,  4.02089869e-03,  1.05498366e-01,\n",
       "          5.33777778e+00, -6.40964052e-03,  6.84885621e-03,\n",
       "         -6.83496732e-03],\n",
       "        [ 4.48660131e-02,  2.21388889e-03,  6.95849673e-03,\n",
       "         -7.75604575e-02,  9.14477124e-04, -2.21197712e+00,\n",
       "         -3.16506536e+00, -3.96503268e-03, -5.78104575e-04,\n",
       "          2.93366013e-02],\n",
       "        [ 2.21962418e+00,  5.46135621e-02, -7.75604575e-02,\n",
       "          2.63339624e+01,  7.53723856e-02, -1.05760621e+01,\n",
       "          1.96845261e+02, -5.09531046e-01,  2.70815359e-01,\n",
       "         -2.93905229e-01],\n",
       "        [ 4.61797386e-03,  4.02089869e-03,  9.14477124e-04,\n",
       "          7.53723856e-02,  2.40825163e-03, -9.73692810e-03,\n",
       "          1.47513072e+00, -3.95375817e-03,  3.59238562e-03,\n",
       "         -2.24232026e-02],\n",
       "        [-9.28120915e+00,  1.05498366e-01, -2.21197712e+00,\n",
       "         -1.05760621e+01, -9.73692810e-03,  1.94696487e+03,\n",
       "          2.56028105e+03,  1.22066993e+00,  2.07173203e-01,\n",
       "         -6.95767974e+00],\n",
       "        [-1.27091503e+00,  5.33777778e+00, -3.16506536e+00,\n",
       "          1.96845261e+02,  1.47513072e+00,  2.56028105e+03,\n",
       "          8.48213399e+03, -1.95830065e+00,  5.05673203e+00,\n",
       "         -2.65915033e+01],\n",
       "        [-2.78545752e-01, -6.40964052e-03, -3.96503268e-03,\n",
       "         -5.09531046e-01, -3.95375817e-03,  1.22066993e+00,\n",
       "         -1.95830065e+00,  4.49937908e-02, -3.60163399e-03,\n",
       "          3.89248366e-02],\n",
       "        [-6.69934641e-04,  6.84885621e-03, -5.78104575e-04,\n",
       "          2.70815359e-01,  3.59238562e-03,  2.07173203e-01,\n",
       "          5.05673203e+00, -3.60163399e-03,  1.41741830e-02,\n",
       "         -5.41405229e-02],\n",
       "        [-9.19934641e-02, -6.83496732e-03,  2.93366013e-02,\n",
       "         -2.93905229e-01, -2.24232026e-02, -6.95767974e+00,\n",
       "         -2.65915033e+01,  3.89248366e-02, -5.41405229e-02,\n",
       "          1.67153595e+00]]),\n",
       " 0.004900626191124422]"
      ]
     },
     "execution_count": 113,
     "metadata": {},
     "output_type": "execute_result"
    }
   ],
   "source": [
    "#lets see for our first wine score its natural parameters and prior probabilty\n",
    "D[3]"
   ]
  },
  {
   "cell_type": "code",
   "execution_count": 118,
   "metadata": {},
   "outputs": [
    {
     "data": {
      "text/plain": [
       "dict_keys([3, 4, 5, 6, 7, 8, 9])"
      ]
     },
     "execution_count": 118,
     "metadata": {},
     "output_type": "execute_result"
    }
   ],
   "source": [
    "D.keys()"
   ]
  },
  {
   "cell_type": "code",
   "execution_count": 115,
   "metadata": {},
   "outputs": [],
   "source": [
    "#now we will find the pooled covariance\n",
    "pooled_cov = 0\n",
    "\n",
    "alpha = 0.75\n",
    "\n",
    "for i in [3,4,5,6,7,8,9]:\n",
    "    \n",
    "    pooled_cov += D[i][1]*(len(training_data[training_data['quality'] == i])-1)\n",
    "    \n",
    "pooled_cov = pooled_cov/(len(training_data)-7)\n"
   ]
  },
  {
   "cell_type": "code",
   "execution_count": 129,
   "metadata": {},
   "outputs": [
    {
     "data": {
      "text/plain": [
       "(10, 10)"
      ]
     },
     "execution_count": 129,
     "metadata": {},
     "output_type": "execute_result"
    }
   ],
   "source": [
    "pooled_cov.shape\n"
   ]
  },
  {
   "cell_type": "code",
   "execution_count": 44,
   "metadata": {},
   "outputs": [],
   "source": [
    "def Naive_Bayes_Classifier_Result(wine_features):\n",
    "    #now we find the multivariate normal pdf \n",
    "    numerators = list(map(lambda wine_score: ((s.multivariate_normal.pdf(x=wine_features,\n",
    "                                                          mean=D[wine_score][0],cov=pooled_cov))*D[wine_score][2]),D.keys()))\n",
    "    \n",
    "    numerators = np.array(numerators)\n",
    "    \n",
    "    posterior_class_probabilities = list(map(lambda x: numerators[x]/np.sum(numerators),[0,1,2,3,4,5,6]))\n",
    "    \n",
    "    return (np.argmax(posterior_class_probabilities)+3)"
   ]
  },
  {
   "cell_type": "markdown",
   "metadata": {},
   "source": [
    "Now we have completely trained our model .\n",
    "\n",
    "Now its time for testing our model."
   ]
  },
  {
   "cell_type": "code",
   "execution_count": 120,
   "metadata": {},
   "outputs": [
    {
     "data": {
      "text/plain": [
       "(1225, 10)"
      ]
     },
     "execution_count": 120,
     "metadata": {},
     "output_type": "execute_result"
    }
   ],
   "source": [
    "testing_data.shape"
   ]
  },
  {
   "cell_type": "code",
   "execution_count": 121,
   "metadata": {},
   "outputs": [],
   "source": [
    "accuracy = 0\n",
    "\n",
    "for i in range(0,len(testing_data)):\n",
    "    \n",
    "    predicted_class = Naive_Bayes_Classifier_Result(testing_data.iloc[i,:])\n",
    "    \n",
    "    if predicted_class == actual_class.iloc[i]:\n",
    "        \n",
    "        accuracy += 1"
   ]
  },
  {
   "cell_type": "code",
   "execution_count": 122,
   "metadata": {},
   "outputs": [
    {
     "data": {
      "text/plain": [
       "639"
      ]
     },
     "execution_count": 122,
     "metadata": {},
     "output_type": "execute_result"
    }
   ],
   "source": [
    "accuracy"
   ]
  },
  {
   "cell_type": "code",
   "execution_count": 125,
   "metadata": {},
   "outputs": [
    {
     "data": {
      "text/plain": [
       "52.163265306122454"
      ]
     },
     "execution_count": 125,
     "metadata": {},
     "output_type": "execute_result"
    }
   ],
   "source": [
    "(639/1225)*100 "
   ]
  },
  {
   "cell_type": "markdown",
   "metadata": {},
   "source": [
    "our model has a accuracy of 52.16 which is not so good nor to bad . And we can improve it by droping more coulmns with less variance."
   ]
  },
  {
   "cell_type": "code",
   "execution_count": null,
   "metadata": {},
   "outputs": [],
   "source": []
  },
  {
   "cell_type": "code",
   "execution_count": null,
   "metadata": {},
   "outputs": [],
   "source": []
  },
  {
   "cell_type": "code",
   "execution_count": null,
   "metadata": {},
   "outputs": [],
   "source": []
  },
  {
   "cell_type": "code",
   "execution_count": null,
   "metadata": {},
   "outputs": [],
   "source": []
  }
 ],
 "metadata": {
  "kernelspec": {
   "display_name": "Python 3",
   "language": "python",
   "name": "python3"
  },
  "language_info": {
   "codemirror_mode": {
    "name": "ipython",
    "version": 3
   },
   "file_extension": ".py",
   "mimetype": "text/x-python",
   "name": "python",
   "nbconvert_exporter": "python",
   "pygments_lexer": "ipython3",
   "version": "3.7.0"
  }
 },
 "nbformat": 4,
 "nbformat_minor": 2
}
