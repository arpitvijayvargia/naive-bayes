{
 "cells": [
  {
   "cell_type": "code",
   "execution_count": 1,
   "metadata": {},
   "outputs": [],
   "source": [
    "import pandas as pd\n",
    "import numpy as np\n",
    "import scipy.stats as s"
   ]
  },
  {
   "cell_type": "code",
   "execution_count": 2,
   "metadata": {},
   "outputs": [],
   "source": [
    "raw_data = pd.read_csv(\"tumor data.csv\")"
   ]
  },
  {
   "cell_type": "markdown",
   "metadata": {},
   "source": []
  },
  {
   "cell_type": "markdown",
   "metadata": {},
   "source": [
    "It is a rule of thumb that 70 % data should be training data and 30 % should be testing data. "
   ]
  },
  {
   "cell_type": "code",
   "execution_count": 3,
   "metadata": {},
   "outputs": [],
   "source": [
    "overall_training_data_required = int(len(raw_data) * 0.70)"
   ]
  },
  {
   "cell_type": "code",
   "execution_count": 4,
   "metadata": {},
   "outputs": [
    {
     "data": {
      "text/plain": [
       "398"
      ]
     },
     "execution_count": 4,
     "metadata": {},
     "output_type": "execute_result"
    }
   ],
   "source": [
    "overall_training_data_required"
   ]
  },
  {
   "cell_type": "code",
   "execution_count": 5,
   "metadata": {},
   "outputs": [],
   "source": [
    "over_data_rows = len(raw_data)"
   ]
  },
  {
   "cell_type": "code",
   "execution_count": 6,
   "metadata": {},
   "outputs": [
    {
     "data": {
      "text/plain": [
       "569"
      ]
     },
     "execution_count": 6,
     "metadata": {},
     "output_type": "execute_result"
    }
   ],
   "source": [
    "over_data_rows"
   ]
  },
  {
   "cell_type": "code",
   "execution_count": 7,
   "metadata": {},
   "outputs": [],
   "source": [
    "over_all_testing_data_required = over_data_rows - overall_training_data_required"
   ]
  },
  {
   "cell_type": "code",
   "execution_count": 8,
   "metadata": {},
   "outputs": [
    {
     "data": {
      "text/plain": [
       "171"
      ]
     },
     "execution_count": 8,
     "metadata": {},
     "output_type": "execute_result"
    }
   ],
   "source": [
    "over_all_testing_data_required"
   ]
  },
  {
   "cell_type": "code",
   "execution_count": 9,
   "metadata": {},
   "outputs": [],
   "source": [
    "over_all_malignant = pd.DataFrame(raw_data[raw_data['diagnosis'] == 'M'])"
   ]
  },
  {
   "cell_type": "code",
   "execution_count": 10,
   "metadata": {},
   "outputs": [],
   "source": [
    "malignant_tumor_training_data = over_all_malignant.iloc[0:199]"
   ]
  },
  {
   "cell_type": "code",
   "execution_count": 11,
   "metadata": {},
   "outputs": [],
   "source": [
    "malignant_tumor_testing_data = over_all_malignant.iloc[199:]"
   ]
  },
  {
   "cell_type": "code",
   "execution_count": 12,
   "metadata": {},
   "outputs": [],
   "source": [
    "over_all_benign = pd.DataFrame(raw_data[raw_data['diagnosis'] == 'B'])"
   ]
  },
  {
   "cell_type": "code",
   "execution_count": 13,
   "metadata": {},
   "outputs": [],
   "source": [
    "benign_tumor_training_data = over_all_benign.iloc[0:199]"
   ]
  },
  {
   "cell_type": "code",
   "execution_count": 14,
   "metadata": {},
   "outputs": [],
   "source": [
    "benign_tumor_testing_data = over_all_benign.iloc[199:]"
   ]
  },
  {
   "cell_type": "code",
   "execution_count": 15,
   "metadata": {},
   "outputs": [],
   "source": [
    "malignant_tumor_training_data = malignant_tumor_training_data['radius_mean']"
   ]
  },
  {
   "cell_type": "code",
   "execution_count": 16,
   "metadata": {},
   "outputs": [
    {
     "data": {
      "text/plain": [
       "0      17.99\n",
       "1      20.57\n",
       "2      19.69\n",
       "3      11.42\n",
       "4      20.29\n",
       "5      12.45\n",
       "6      18.25\n",
       "7      13.71\n",
       "8      13.00\n",
       "9      12.46\n",
       "10     16.02\n",
       "11     15.78\n",
       "12     19.17\n",
       "13     15.85\n",
       "14     13.73\n",
       "15     14.54\n",
       "16     14.68\n",
       "17     16.13\n",
       "18     19.81\n",
       "22     15.34\n",
       "23     21.16\n",
       "24     16.65\n",
       "25     17.14\n",
       "26     14.58\n",
       "27     18.61\n",
       "28     15.30\n",
       "29     17.57\n",
       "30     18.63\n",
       "31     11.84\n",
       "32     17.02\n",
       "       ...  \n",
       "385    14.60\n",
       "389    19.55\n",
       "392    15.49\n",
       "393    21.61\n",
       "400    17.91\n",
       "408    17.99\n",
       "414    15.13\n",
       "417    15.50\n",
       "430    14.90\n",
       "432    20.18\n",
       "433    18.82\n",
       "435    13.98\n",
       "441    17.27\n",
       "444    18.03\n",
       "446    17.75\n",
       "449    21.10\n",
       "451    19.59\n",
       "460    17.08\n",
       "461    27.42\n",
       "468    17.60\n",
       "479    16.25\n",
       "487    19.44\n",
       "489    16.69\n",
       "492    18.01\n",
       "498    18.49\n",
       "499    20.59\n",
       "501    13.82\n",
       "503    23.09\n",
       "509    15.46\n",
       "512    13.40\n",
       "Name: radius_mean, Length: 199, dtype: float64"
      ]
     },
     "execution_count": 16,
     "metadata": {},
     "output_type": "execute_result"
    }
   ],
   "source": [
    "malignant_tumor_training_data"
   ]
  },
  {
   "cell_type": "code",
   "execution_count": 17,
   "metadata": {},
   "outputs": [],
   "source": [
    "mu_cap_m_radius_mean = malignant_tumor_training_data.mean()"
   ]
  },
  {
   "cell_type": "code",
   "execution_count": 18,
   "metadata": {},
   "outputs": [],
   "source": [
    "sigma_cap_m_radius_mean = malignant_tumor_training_data.std()"
   ]
  },
  {
   "cell_type": "code",
   "execution_count": 19,
   "metadata": {},
   "outputs": [],
   "source": [
    "benign_tumor_training_data = benign_tumor_training_data['radius_mean']"
   ]
  },
  {
   "cell_type": "code",
   "execution_count": 20,
   "metadata": {},
   "outputs": [],
   "source": [
    "mu_cap_b_radius_mean = benign_tumor_training_data.mean()"
   ]
  },
  {
   "cell_type": "code",
   "execution_count": 21,
   "metadata": {},
   "outputs": [],
   "source": [
    "sigma_cap_b_radius_mean = benign_tumor_training_data.std()"
   ]
  },
  {
   "cell_type": "code",
   "execution_count": 22,
   "metadata": {},
   "outputs": [],
   "source": [
    "malignant_tumor_testing_data = pd.DataFrame(malignant_tumor_testing_data)"
   ]
  },
  {
   "cell_type": "code",
   "execution_count": 23,
   "metadata": {},
   "outputs": [],
   "source": [
    "malignant_tumor_testing_data = malignant_tumor_testing_data['radius_mean']"
   ]
  },
  {
   "cell_type": "code",
   "execution_count": 24,
   "metadata": {},
   "outputs": [
    {
     "data": {
      "text/plain": [
       "514    15.05\n",
       "516    18.31\n",
       "517    19.89\n",
       "521    24.63\n",
       "533    20.47\n",
       "535    20.55\n",
       "536    14.27\n",
       "562    15.22\n",
       "563    20.92\n",
       "564    21.56\n",
       "565    20.13\n",
       "566    16.60\n",
       "567    20.60\n",
       "Name: radius_mean, dtype: float64"
      ]
     },
     "execution_count": 24,
     "metadata": {},
     "output_type": "execute_result"
    }
   ],
   "source": [
    "malignant_tumor_testing_data"
   ]
  },
  {
   "cell_type": "code",
   "execution_count": 25,
   "metadata": {},
   "outputs": [],
   "source": [
    "benign_tumor_testing_data = pd.DataFrame(benign_tumor_testing_data)"
   ]
  },
  {
   "cell_type": "code",
   "execution_count": 26,
   "metadata": {},
   "outputs": [],
   "source": [
    "benign_tumor_testing_data = benign_tumor_testing_data['radius_mean']"
   ]
  },
  {
   "cell_type": "code",
   "execution_count": 27,
   "metadata": {},
   "outputs": [],
   "source": [
    "class_conditional_benign = s.norm.pdf(malignant_tumor_testing_data.iloc[0],\n",
    "                                      mu_cap_b_radius_mean,sigma_cap_b_radius_mean)"
   ]
  },
  {
   "cell_type": "code",
   "execution_count": 28,
   "metadata": {},
   "outputs": [],
   "source": [
    "class_conditional_malignant = s.norm.pdf(malignant_tumor_testing_data.iloc[0],\n",
    "                                        mu_cap_m_radius_mean,sigma_cap_m_radius_mean)"
   ]
  },
  {
   "cell_type": "code",
   "execution_count": 29,
   "metadata": {},
   "outputs": [
    {
     "data": {
      "text/plain": [
       "0.0962409057572784"
      ]
     },
     "execution_count": 29,
     "metadata": {},
     "output_type": "execute_result"
    }
   ],
   "source": [
    "class_conditional_malignant"
   ]
  },
  {
   "cell_type": "code",
   "execution_count": 30,
   "metadata": {},
   "outputs": [],
   "source": [
    "posterior_benign_probability = (class_conditional_benign)/(class_conditional_benign + class_conditional_malignant)"
   ]
  },
  {
   "cell_type": "code",
   "execution_count": 31,
   "metadata": {},
   "outputs": [
    {
     "data": {
      "text/plain": [
       "0.3284541337088524"
      ]
     },
     "execution_count": 31,
     "metadata": {},
     "output_type": "execute_result"
    }
   ],
   "source": [
    "posterior_benign_probability"
   ]
  },
  {
   "cell_type": "code",
   "execution_count": 32,
   "metadata": {},
   "outputs": [],
   "source": [
    "posterior_malignant_probability = (class_conditional_malignant)/(class_conditional_benign + class_conditional_malignant)"
   ]
  },
  {
   "cell_type": "code",
   "execution_count": 33,
   "metadata": {},
   "outputs": [
    {
     "data": {
      "text/plain": [
       "0.6715458662911477"
      ]
     },
     "execution_count": 33,
     "metadata": {},
     "output_type": "execute_result"
    }
   ],
   "source": [
    "posterior_malignant_probability"
   ]
  },
  {
   "cell_type": "code",
   "execution_count": 34,
   "metadata": {},
   "outputs": [],
   "source": [
    "precision_sum = 0\n",
    "recall_sum = 0\n",
    "accuracy_sum = 0\n",
    "\n",
    "for i in range(0,len(malignant_tumor_testing_data)):\n",
    "    \n",
    "    class_conditional_benign = s.norm.pdf(malignant_tumor_testing_data.iloc[i],\n",
    "                                          mu_cap_b_radius_mean,sigma_cap_b_radius_mean)\n",
    "    \n",
    "    class_conditional_malignant = s.norm.pdf(malignant_tumor_testing_data.iloc[i],\n",
    "                                            mu_cap_m_radius_mean,sigma_cap_m_radius_mean)\n",
    "    \n",
    "    total_conditional = (class_conditional_benign + class_conditional_malignant)\n",
    "    \n",
    "    posterior_benign_probability = class_conditional_benign/total_conditional\n",
    "    \n",
    "    if posterior_benign_probability < 0.5:\n",
    "        \n",
    "        accuracy_sum += 1"
   ]
  },
  {
   "cell_type": "code",
   "execution_count": 35,
   "metadata": {},
   "outputs": [
    {
     "data": {
      "text/plain": [
       "12"
      ]
     },
     "execution_count": 35,
     "metadata": {},
     "output_type": "execute_result"
    }
   ],
   "source": [
    "accuracy_sum"
   ]
  },
  {
   "cell_type": "code",
   "execution_count": 36,
   "metadata": {},
   "outputs": [],
   "source": [
    "for i in range(0,len(benign_tumor_testing_data)):\n",
    "    \n",
    "    class_conditional_benign = s.norm.pdf(benign_tumor_testing_data.iloc[i],\n",
    "                                          mu_cap_b_radius_mean,sigma_cap_b_radius_mean)\n",
    "    \n",
    "    class_conditional_malignant = s.norm.pdf(benign_tumor_testing_data.iloc[i],\n",
    "                                            mu_cap_m_radius_mean,sigma_cap_m_radius_mean)\n",
    "    \n",
    "    total_conditional = (class_conditional_benign + class_conditional_malignant)\n",
    "    \n",
    "    posterior_benign_probability = class_conditional_benign/total_conditional\n",
    "    \n",
    "    if posterior_benign_probability > 0.5:\n",
    "        \n",
    "        accuracy_sum += 1"
   ]
  },
  {
   "cell_type": "code",
   "execution_count": 37,
   "metadata": {},
   "outputs": [
    {
     "data": {
      "text/plain": [
       "148"
      ]
     },
     "execution_count": 37,
     "metadata": {},
     "output_type": "execute_result"
    }
   ],
   "source": [
    "accuracy_sum"
   ]
  },
  {
   "cell_type": "code",
   "execution_count": 38,
   "metadata": {},
   "outputs": [
    {
     "data": {
      "text/plain": [
       "86.54970760233918"
      ]
     },
     "execution_count": 38,
     "metadata": {},
     "output_type": "execute_result"
    }
   ],
   "source": [
    "(148/171)*100"
   ]
  },
  {
   "cell_type": "code",
   "execution_count": null,
   "metadata": {},
   "outputs": [],
   "source": []
  },
  {
   "cell_type": "code",
   "execution_count": null,
   "metadata": {},
   "outputs": [],
   "source": []
  }
 ],
 "metadata": {
  "kernelspec": {
   "display_name": "Python 3",
   "language": "python",
   "name": "python3"
  },
  "language_info": {
   "codemirror_mode": {
    "name": "ipython",
    "version": 3
   },
   "file_extension": ".py",
   "mimetype": "text/x-python",
   "name": "python",
   "nbconvert_exporter": "python",
   "pygments_lexer": "ipython3",
   "version": "3.7.0"
  }
 },
 "nbformat": 4,
 "nbformat_minor": 2
}
